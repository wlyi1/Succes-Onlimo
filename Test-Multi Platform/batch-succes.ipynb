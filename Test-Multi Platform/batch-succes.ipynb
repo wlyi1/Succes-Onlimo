{
 "cells": [
  {
   "cell_type": "code",
   "execution_count": 1,
   "id": "ad93212a",
   "metadata": {},
   "outputs": [],
   "source": [
    "import fileinput\n",
    "import sys\n",
    "import os\n",
    "import shutil\n",
    "\n",
    "def copy_data(file):\n",
    "    src = 'C:/Users/waliy/Batch Script Platform/klh.py'\n",
    "    dest = f'C:/Users/waliy/Batch Script Platform/ds/klhk{file}.py' \n",
    "    destination = shutil.copyfile(src, dest)\n",
    "    \n",
    "\n",
    "def replacement(file, prevw, nextw):\n",
    "    for line in fileinput.input(file, inplace=1):\n",
    "        line = line.replace(prevw, nextw)\n",
    "        sys.stdout.write(line)"
   ]
  },
  {
   "cell_type": "code",
   "execution_count": 2,
   "id": "ae27e533",
   "metadata": {},
   "outputs": [],
   "source": [
    "klhk_16 = [str(x) for x in range(1,17)]\n"
   ]
  },
  {
   "cell_type": "code",
   "execution_count": 4,
   "id": "74f3050e",
   "metadata": {},
   "outputs": [
    {
     "name": "stdout",
     "output_type": "stream",
     "text": [
      "succesfull in replacing 1\n",
      "----------------------------\n",
      "succesfull in replacing 2\n",
      "----------------------------\n",
      "succesfull in replacing 3\n",
      "----------------------------\n",
      "succesfull in replacing 4\n",
      "----------------------------\n",
      "succesfull in replacing 5\n",
      "----------------------------\n",
      "succesfull in replacing 6\n",
      "----------------------------\n",
      "succesfull in replacing 7\n",
      "----------------------------\n",
      "succesfull in replacing 8\n",
      "----------------------------\n",
      "succesfull in replacing 9\n",
      "----------------------------\n",
      "succesfull in replacing 10\n",
      "----------------------------\n",
      "succesfull in replacing 11\n",
      "----------------------------\n",
      "succesfull in replacing 12\n",
      "----------------------------\n",
      "succesfull in replacing 13\n",
      "----------------------------\n",
      "succesfull in replacing 14\n",
      "----------------------------\n",
      "succesfull in replacing 15\n",
      "----------------------------\n",
      "succesfull in replacing 16\n",
      "----------------------------\n"
     ]
    }
   ],
   "source": [
    "for i in klhk_16:\n",
    "    copy_data(i)\n",
    "    print(f'succesfull in replacing {i}')\n",
    "    replacement(f'klhk{i}.py', '44', i)\n",
    "    print('----------------------------')"
   ]
  },
  {
   "cell_type": "code",
   "execution_count": null,
   "id": "3bbc732a",
   "metadata": {},
   "outputs": [],
   "source": []
  }
 ],
 "metadata": {
  "kernelspec": {
   "display_name": "Python 3 (ipykernel)",
   "language": "python",
   "name": "python3"
  },
  "language_info": {
   "codemirror_mode": {
    "name": "ipython",
    "version": 3
   },
   "file_extension": ".py",
   "mimetype": "text/x-python",
   "name": "python",
   "nbconvert_exporter": "python",
   "pygments_lexer": "ipython3",
   "version": "3.10.4"
  }
 },
 "nbformat": 4,
 "nbformat_minor": 5
}
